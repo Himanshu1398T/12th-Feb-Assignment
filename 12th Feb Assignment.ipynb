{
 "cells": [
  {
   "cell_type": "markdown",
   "id": "af138293",
   "metadata": {},
   "source": [
    "### Q1. What is an Exception in python? Write the difference between Exceptions and Syntax errors."
   ]
  },
  {
   "cell_type": "markdown",
   "id": "6d459892",
   "metadata": {},
   "source": [
    "An exception is an error that occurs during the execution of a program. When an exception occurs, the program execution stops and Python will raise an exception object which contains information about the error, such as its type and a traceback of where it occurred in the code.\n",
    "\n",
    "Exceptions can be raised intentionally by the programmer using the raise keyword, or they can be raised automatically by Python when it encounters an error during program execution."
   ]
  },
  {
   "cell_type": "markdown",
   "id": "7375ef4f",
   "metadata": {},
   "source": [
    "Syntax errors occur when the Python interpreter encounters invalid Python code that it cannot interpret. This can happen when the programmer makes a mistake such as forgetting to close a parenthesis or misspelling a keyword.\n",
    "\n",
    "The main difference between syntax errors and exceptions is that syntax errors occur during the parsing stage of the program, before it is executed, whereas exceptions occur during program execution. Syntax errors must be fixed before the program can be executed, while exceptions can be caught and handled at runtime."
   ]
  },
  {
   "cell_type": "markdown",
   "id": "7ff03616",
   "metadata": {},
   "source": [
    "### Q2. What happens when an exception is not handled? Explain with an example."
   ]
  },
  {
   "cell_type": "markdown",
   "id": "431f8fab",
   "metadata": {},
   "source": [
    "When an exception is not handled in a Python program, it will cause the program to terminate and display an error message, along with a traceback of where the exception occurred."
   ]
  },
  {
   "cell_type": "code",
   "execution_count": 1,
   "id": "94b0140e",
   "metadata": {},
   "outputs": [
    {
     "ename": "FileNotFoundError",
     "evalue": "[Errno 2] No such file or directory: 'test.txt'",
     "output_type": "error",
     "traceback": [
      "\u001b[1;31m---------------------------------------------------------------------------\u001b[0m",
      "\u001b[1;31mFileNotFoundError\u001b[0m                         Traceback (most recent call last)",
      "\u001b[1;32m~\\AppData\\Local\\Temp\\ipykernel_14436\\80702619.py\u001b[0m in \u001b[0;36m<module>\u001b[1;34m\u001b[0m\n\u001b[1;32m----> 1\u001b[1;33m \u001b[0mf\u001b[0m \u001b[1;33m=\u001b[0m \u001b[0mopen\u001b[0m\u001b[1;33m(\u001b[0m\u001b[1;34m\"test.txt\"\u001b[0m \u001b[1;33m,\u001b[0m \u001b[1;34m'r'\u001b[0m\u001b[1;33m)\u001b[0m\u001b[1;33m\u001b[0m\u001b[1;33m\u001b[0m\u001b[0m\n\u001b[0m\u001b[0;32m      2\u001b[0m \u001b[0mprint\u001b[0m\u001b[1;33m(\u001b[0m\u001b[1;34m\"this is my print\"\u001b[0m\u001b[1;33m)\u001b[0m\u001b[1;33m\u001b[0m\u001b[1;33m\u001b[0m\u001b[0m\n",
      "\u001b[1;31mFileNotFoundError\u001b[0m: [Errno 2] No such file or directory: 'test.txt'"
     ]
    }
   ],
   "source": [
    "f = open(\"test.txt\" , 'r')\n",
    "print(\"this is my print\")"
   ]
  },
  {
   "cell_type": "markdown",
   "id": "bcd34471",
   "metadata": {},
   "source": [
    "As test.txt was not prsent it gave an error, here the syntax was correct hence it's an exception. \n",
    "But because of program termination the next line of code will not process and the intended task will not complete.\n",
    "To resolve this we use exception handling."
   ]
  },
  {
   "cell_type": "code",
   "execution_count": 2,
   "id": "c1324d36",
   "metadata": {},
   "outputs": [
    {
     "name": "stdout",
     "output_type": "stream",
     "text": [
      "There is an issue with the code  [Errno 2] No such file or directory: 'test.txt'\n",
      "this is my print\n"
     ]
    }
   ],
   "source": [
    "try:\n",
    "    f = open(\"test.txt\" , 'r')\n",
    "except Exception as e :\n",
    "    print(\"There is an issue with the code \", e)\n",
    "print(\"this is my print\")"
   ]
  },
  {
   "cell_type": "markdown",
   "id": "89a58eb8",
   "metadata": {},
   "source": [
    "Here with the use of exception handling we were able to process the next time of code even though we had an error."
   ]
  },
  {
   "cell_type": "markdown",
   "id": "32363edf",
   "metadata": {},
   "source": [
    "### Q3. Which Python statements are used to catch and handle exceptions? Explain with an example."
   ]
  },
  {
   "cell_type": "markdown",
   "id": "0d5869e1",
   "metadata": {},
   "source": [
    "In Python, the try and except statements are used to catch and handle exceptions. The try statement contains the code that may raise an exception, while the except statement contains the code that handles the exception if it occurs. "
   ]
  },
  {
   "cell_type": "code",
   "execution_count": 3,
   "id": "bfc8a019",
   "metadata": {},
   "outputs": [
    {
     "name": "stdout",
     "output_type": "stream",
     "text": [
      "Error: Cannot divide by zero.\n"
     ]
    }
   ],
   "source": [
    "numerator = 10\n",
    "denominator = 0\n",
    "\n",
    "try:\n",
    "    result = numerator / denominator\n",
    "except ZeroDivisionError:\n",
    "    print(\"Error: Cannot divide by zero.\")"
   ]
  },
  {
   "cell_type": "markdown",
   "id": "f64bb92a",
   "metadata": {},
   "source": [
    "### Q4. Explain with an example:\n",
    "<h3>a.try and else</br>\n",
    "b. finally</br>\n",
    "c. raise</h3>"
   ]
  },
  {
   "cell_type": "markdown",
   "id": "f3e8ef75",
   "metadata": {},
   "source": [
    "***\n",
    "#### a. Try and else\n",
    "try and else blocks are used together to specify a block of code that should be executed only if no exceptions are raised in the try block."
   ]
  },
  {
   "cell_type": "code",
   "execution_count": 4,
   "id": "8606ed12",
   "metadata": {},
   "outputs": [
    {
     "name": "stdout",
     "output_type": "stream",
     "text": [
      "The result is: 5.0\n"
     ]
    }
   ],
   "source": [
    "try:\n",
    "    result = 10 / 2\n",
    "except ZeroDivisionError:\n",
    "    print(\"Error: Cannot divide by zero.\")\n",
    "else:\n",
    "    print(\"The result is:\", result)"
   ]
  },
  {
   "cell_type": "markdown",
   "id": "8bde5d59",
   "metadata": {},
   "source": [
    "***\n",
    "#### b. finally"
   ]
  },
  {
   "cell_type": "markdown",
   "id": "75021478",
   "metadata": {},
   "source": [
    "finally block is used to specify a block of code that should be executed whether or not an exception occurred in the try block."
   ]
  },
  {
   "cell_type": "code",
   "execution_count": 5,
   "id": "589b8666",
   "metadata": {},
   "outputs": [
    {
     "name": "stdout",
     "output_type": "stream",
     "text": [
      "There is an issue with the code  [Errno 2] No such file or directory: 'test.txt'\n",
      "Hello its finally statement\n"
     ]
    }
   ],
   "source": [
    "try:\n",
    "    f = open(\"test.txt\" , 'r')\n",
    "except Exception as e :\n",
    "    print(\"There is an issue with the code \", e)\n",
    "finally:\n",
    "    print('Hello its finally statement')"
   ]
  },
  {
   "cell_type": "markdown",
   "id": "e9613b23",
   "metadata": {},
   "source": [
    "***\n",
    "#### c. raise"
   ]
  },
  {
   "cell_type": "markdown",
   "id": "78e464e1",
   "metadata": {},
   "source": [
    "raise keyword is used to raise an exception explicitly. We can use the raise keyword to raise built-in or user-defined exceptions."
   ]
  },
  {
   "cell_type": "code",
   "execution_count": 6,
   "id": "b157486c",
   "metadata": {},
   "outputs": [
    {
     "ename": "ZeroDivisionError",
     "evalue": "Error: Cannot divide by zero.",
     "output_type": "error",
     "traceback": [
      "\u001b[1;31m---------------------------------------------------------------------------\u001b[0m",
      "\u001b[1;31mZeroDivisionError\u001b[0m                         Traceback (most recent call last)",
      "\u001b[1;32m~\\AppData\\Local\\Temp\\ipykernel_14436\\2131379483.py\u001b[0m in \u001b[0;36m<module>\u001b[1;34m\u001b[0m\n\u001b[0;32m      4\u001b[0m     \u001b[1;32mreturn\u001b[0m \u001b[0mnumerator\u001b[0m \u001b[1;33m/\u001b[0m \u001b[0mdenominator\u001b[0m\u001b[1;33m\u001b[0m\u001b[1;33m\u001b[0m\u001b[0m\n\u001b[0;32m      5\u001b[0m \u001b[1;33m\u001b[0m\u001b[0m\n\u001b[1;32m----> 6\u001b[1;33m \u001b[0mresult\u001b[0m \u001b[1;33m=\u001b[0m \u001b[0mdivide\u001b[0m\u001b[1;33m(\u001b[0m\u001b[1;36m10\u001b[0m\u001b[1;33m,\u001b[0m \u001b[1;36m0\u001b[0m\u001b[1;33m)\u001b[0m\u001b[1;33m\u001b[0m\u001b[1;33m\u001b[0m\u001b[0m\n\u001b[0m",
      "\u001b[1;32m~\\AppData\\Local\\Temp\\ipykernel_14436\\2131379483.py\u001b[0m in \u001b[0;36mdivide\u001b[1;34m(numerator, denominator)\u001b[0m\n\u001b[0;32m      1\u001b[0m \u001b[1;32mdef\u001b[0m \u001b[0mdivide\u001b[0m\u001b[1;33m(\u001b[0m\u001b[0mnumerator\u001b[0m\u001b[1;33m,\u001b[0m \u001b[0mdenominator\u001b[0m\u001b[1;33m)\u001b[0m\u001b[1;33m:\u001b[0m\u001b[1;33m\u001b[0m\u001b[1;33m\u001b[0m\u001b[0m\n\u001b[0;32m      2\u001b[0m     \u001b[1;32mif\u001b[0m \u001b[0mdenominator\u001b[0m \u001b[1;33m==\u001b[0m \u001b[1;36m0\u001b[0m\u001b[1;33m:\u001b[0m\u001b[1;33m\u001b[0m\u001b[1;33m\u001b[0m\u001b[0m\n\u001b[1;32m----> 3\u001b[1;33m         \u001b[1;32mraise\u001b[0m \u001b[0mZeroDivisionError\u001b[0m\u001b[1;33m(\u001b[0m\u001b[1;34m\"Error: Cannot divide by zero.\"\u001b[0m\u001b[1;33m)\u001b[0m\u001b[1;33m\u001b[0m\u001b[1;33m\u001b[0m\u001b[0m\n\u001b[0m\u001b[0;32m      4\u001b[0m     \u001b[1;32mreturn\u001b[0m \u001b[0mnumerator\u001b[0m \u001b[1;33m/\u001b[0m \u001b[0mdenominator\u001b[0m\u001b[1;33m\u001b[0m\u001b[1;33m\u001b[0m\u001b[0m\n\u001b[0;32m      5\u001b[0m \u001b[1;33m\u001b[0m\u001b[0m\n",
      "\u001b[1;31mZeroDivisionError\u001b[0m: Error: Cannot divide by zero."
     ]
    }
   ],
   "source": [
    "def divide(numerator, denominator):\n",
    "    if denominator == 0:\n",
    "        raise ZeroDivisionError(\"Error: Cannot divide by zero.\")\n",
    "    return numerator / denominator\n",
    "\n",
    "result = divide(10, 0)"
   ]
  },
  {
   "cell_type": "markdown",
   "id": "020482b6",
   "metadata": {},
   "source": [
    "### Q5. What are Custom Exceptions in python? Why do we need Custom Exceptions? Explain with an example."
   ]
  },
  {
   "cell_type": "markdown",
   "id": "3437c285",
   "metadata": {},
   "source": [
    "Custom exceptions in Python are user-defined exceptions that can be raised like built-in exceptions. We need custom exceptions when we want to create our own exception classes to handle specific error conditions that are not covered by built-in exceptions. Custom exceptions can help make our code more readable and easier to maintain by providing more specific error messages and error handling logic."
   ]
  },
  {
   "cell_type": "code",
   "execution_count": 7,
   "id": "c431e46b",
   "metadata": {},
   "outputs": [],
   "source": [
    "class InvalidPasswordException(Exception):\n",
    "    def __init__(self,msg):\n",
    "        self.msg = msg"
   ]
  },
  {
   "cell_type": "code",
   "execution_count": 8,
   "id": "57acffa9",
   "metadata": {},
   "outputs": [],
   "source": [
    "def login(username, password):\n",
    "    if password != \"secret\":\n",
    "        raise InvalidPasswordException(\"Error: Invalid password.\")\n",
    "    else:\n",
    "        print(\"Welcome, \" + username + \"!\")"
   ]
  },
  {
   "cell_type": "code",
   "execution_count": 9,
   "id": "a51b4fcb",
   "metadata": {},
   "outputs": [
    {
     "name": "stdout",
     "output_type": "stream",
     "text": [
      "xxxx_xx\n",
      "Error: Invalid password.\n"
     ]
    }
   ],
   "source": [
    "try:\n",
    "    y = input()\n",
    "    login(\"john\", y)\n",
    "\n",
    "except InvalidPasswordException as e:\n",
    "    print(e)"
   ]
  },
  {
   "cell_type": "markdown",
   "id": "6e743377",
   "metadata": {},
   "source": [
    "### Q6. Create a custom exception class. Use this class to handle an exception."
   ]
  },
  {
   "cell_type": "code",
   "execution_count": 10,
   "id": "576634f6",
   "metadata": {},
   "outputs": [],
   "source": [
    "class NegativeNumberException(Exception):\n",
    "    def __init__(self, message=\"Number cannot be negative.\"):\n",
    "        self.message = message\n",
    "\n",
    "def square_root(number):\n",
    "    if number < 0:\n",
    "        raise NegativeNumberException()\n",
    "    return number ** 0.5"
   ]
  },
  {
   "cell_type": "code",
   "execution_count": 11,
   "id": "81f49c0d",
   "metadata": {},
   "outputs": [
    {
     "name": "stdout",
     "output_type": "stream",
     "text": [
      "-44\n",
      "Number cannot be negative.\n"
     ]
    }
   ],
   "source": [
    "try:\n",
    "    result = square_root(int(input()))\n",
    "except NegativeNumberException as e:\n",
    "    print(e.message)\n",
    "else:\n",
    "    print(result)"
   ]
  }
 ],
 "metadata": {
  "kernelspec": {
   "display_name": "Python 3 (ipykernel)",
   "language": "python",
   "name": "python3"
  },
  "language_info": {
   "codemirror_mode": {
    "name": "ipython",
    "version": 3
   },
   "file_extension": ".py",
   "mimetype": "text/x-python",
   "name": "python",
   "nbconvert_exporter": "python",
   "pygments_lexer": "ipython3",
   "version": "3.9.13"
  }
 },
 "nbformat": 4,
 "nbformat_minor": 5
}
